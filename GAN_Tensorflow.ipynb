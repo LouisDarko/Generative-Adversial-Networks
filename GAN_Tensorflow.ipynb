{
  "nbformat": 4,
  "nbformat_minor": 0,
  "metadata": {
    "colab": {
      "name": "GAN Tensorflow.ipynb",
      "version": "0.3.2",
      "views": {},
      "default_view": {},
      "provenance": []
    },
    "kernelspec": {
      "name": "python3",
      "display_name": "Python 3"
    },
    "accelerator": "GPU"
  },
  "cells": [
    {
      "metadata": {
        "id": "ad4F2m7tUYp9",
        "colab_type": "code",
        "colab": {
          "autoexec": {
            "startup": false,
            "wait_interval": 0
          }
        }
      },
      "cell_type": "code",
      "source": [
        "##Importing libraries \n",
        "\n",
        "import numpy as np\n",
        "import matplotlib.pyplot as plt\n",
        "%matplotlib inline\n",
        "import tensorflow as tf\n",
        "from   tensorflow.examples.tutorials.mnist import input_data\n"
      ],
      "execution_count": 0,
      "outputs": []
    },
    {
      "metadata": {
        "id": "Q8wSYLkhUcIs",
        "colab_type": "code",
        "colab": {
          "autoexec": {
            "startup": false,
            "wait_interval": 0
          },
          "base_uri": "https://localhost:8080/",
          "height": 530
        },
        "outputId": "f6ee5e38-5c18-4a6e-9660-5466a46029f8",
        "executionInfo": {
          "status": "ok",
          "timestamp": 1526147189274,
          "user_tz": -330,
          "elapsed": 4139,
          "user": {
            "displayName": "Analytics Data Exploration",
            "photoUrl": "//lh3.googleusercontent.com/-xVjqDbJQmr8/AAAAAAAAAAI/AAAAAAAAAFQ/PU7dBZDglzU/s50-c-k-no/photo.jpg",
            "userId": "115208507553064761315"
          }
        }
      },
      "cell_type": "code",
      "source": [
        "## Reading the data\n",
        "df=input_data.read_data_sets(\"/tmp/data/\",one_hot=True)"
      ],
      "execution_count": 2,
      "outputs": [
        {
          "output_type": "stream",
          "text": [
            "WARNING:tensorflow:From <ipython-input-2-3d0b3048d6fa>:1: read_data_sets (from tensorflow.contrib.learn.python.learn.datasets.mnist) is deprecated and will be removed in a future version.\n",
            "Instructions for updating:\n",
            "Please use alternatives such as official/mnist/dataset.py from tensorflow/models.\n",
            "WARNING:tensorflow:From /usr/local/lib/python3.6/dist-packages/tensorflow/contrib/learn/python/learn/datasets/mnist.py:260: maybe_download (from tensorflow.contrib.learn.python.learn.datasets.base) is deprecated and will be removed in a future version.\n",
            "Instructions for updating:\n",
            "Please write your own downloading logic.\n",
            "WARNING:tensorflow:From /usr/local/lib/python3.6/dist-packages/tensorflow/contrib/learn/python/learn/datasets/base.py:252: _internal_retry.<locals>.wrap.<locals>.wrapped_fn (from tensorflow.contrib.learn.python.learn.datasets.base) is deprecated and will be removed in a future version.\n",
            "Instructions for updating:\n",
            "Please use urllib or similar directly.\n",
            "Successfully downloaded train-images-idx3-ubyte.gz 9912422 bytes.\n",
            "WARNING:tensorflow:From /usr/local/lib/python3.6/dist-packages/tensorflow/contrib/learn/python/learn/datasets/mnist.py:262: extract_images (from tensorflow.contrib.learn.python.learn.datasets.mnist) is deprecated and will be removed in a future version.\n",
            "Instructions for updating:\n",
            "Please use tf.data to implement this functionality.\n",
            "Extracting /tmp/data/train-images-idx3-ubyte.gz\n",
            "Successfully downloaded train-labels-idx1-ubyte.gz 28881 bytes.\n",
            "WARNING:tensorflow:From /usr/local/lib/python3.6/dist-packages/tensorflow/contrib/learn/python/learn/datasets/mnist.py:267: extract_labels (from tensorflow.contrib.learn.python.learn.datasets.mnist) is deprecated and will be removed in a future version.\n",
            "Instructions for updating:\n",
            "Please use tf.data to implement this functionality.\n",
            "Extracting /tmp/data/train-labels-idx1-ubyte.gz\n",
            "WARNING:tensorflow:From /usr/local/lib/python3.6/dist-packages/tensorflow/contrib/learn/python/learn/datasets/mnist.py:110: dense_to_one_hot (from tensorflow.contrib.learn.python.learn.datasets.mnist) is deprecated and will be removed in a future version.\n",
            "Instructions for updating:\n",
            "Please use tf.one_hot on tensors.\n",
            "Successfully downloaded t10k-images-idx3-ubyte.gz 1648877 bytes.\n",
            "Extracting /tmp/data/t10k-images-idx3-ubyte.gz\n",
            "Successfully downloaded t10k-labels-idx1-ubyte.gz 4542 bytes.\n",
            "Extracting /tmp/data/t10k-labels-idx1-ubyte.gz\n",
            "WARNING:tensorflow:From /usr/local/lib/python3.6/dist-packages/tensorflow/contrib/learn/python/learn/datasets/mnist.py:290: DataSet.__init__ (from tensorflow.contrib.learn.python.learn.datasets.mnist) is deprecated and will be removed in a future version.\n",
            "Instructions for updating:\n",
            "Please use alternatives such as official/mnist/dataset.py from tensorflow/models.\n"
          ],
          "name": "stdout"
        }
      ]
    },
    {
      "metadata": {
        "id": "_XfJJM82Uhs3",
        "colab_type": "code",
        "colab": {
          "autoexec": {
            "startup": false,
            "wait_interval": 0
          }
        }
      },
      "cell_type": "code",
      "source": [
        "###Neural Network Parameters\n",
        "### 28*28=784\n",
        "\n",
        "img_dim=784\n",
        "gen_dim=256\n",
        "disc_dim=256\n",
        "noise_dim=100"
      ],
      "execution_count": 0,
      "outputs": []
    },
    {
      "metadata": {
        "id": "_xxF6bqJUln2",
        "colab_type": "code",
        "colab": {
          "autoexec": {
            "startup": false,
            "wait_interval": 0
          }
        }
      },
      "cell_type": "code",
      "source": [
        "###Tensorflow data inputs\n",
        "\n",
        "gen_inp=tf.placeholder(tf.float32,shape=[None,noise_dim])\n",
        "disc_inp=tf.placeholder(tf.float32,shape=[None,img_dim])\n",
        "\n"
      ],
      "execution_count": 0,
      "outputs": []
    },
    {
      "metadata": {
        "id": "D2IQGeaaUnON",
        "colab_type": "code",
        "colab": {
          "autoexec": {
            "startup": false,
            "wait_interval": 0
          }
        }
      },
      "cell_type": "code",
      "source": [
        "### Neural Network training parameters\n",
        "\n",
        "batch_size=128\n",
        "num_steps=80000\n",
        "learning_rate=2e-4\n",
        "display_step=20"
      ],
      "execution_count": 0,
      "outputs": []
    },
    {
      "metadata": {
        "id": "tSS37Bn8Uo52",
        "colab_type": "code",
        "colab": {
          "autoexec": {
            "startup": false,
            "wait_interval": 0
          }
        }
      },
      "cell_type": "code",
      "source": [
        "###Weights function\n",
        "\n",
        "def weight_init(shape):\n",
        "    return tf.random_normal(shape=shape,stddev=1. / tf.sqrt(shape[0] / 2.))"
      ],
      "execution_count": 0,
      "outputs": []
    },
    {
      "metadata": {
        "id": "aYdKxXizUqtP",
        "colab_type": "code",
        "colab": {
          "autoexec": {
            "startup": false,
            "wait_interval": 0
          }
        }
      },
      "cell_type": "code",
      "source": [
        "###Model Architechture Weights\n",
        "\n",
        "\n",
        "W={\"w1\":tf.Variable(weight_init([noise_dim,gen_dim])),\n",
        "   \"w2\": tf.Variable(weight_init([gen_dim,img_dim])),\n",
        "   \"w3\": tf.Variable(weight_init([img_dim,disc_dim])), \n",
        "   \"w4\": tf.Variable(weight_init([disc_dim,1]))} \n",
        "\n",
        "b={\"b1\":tf.Variable(tf.zeros([gen_dim])),\n",
        "   \"b2\":tf.Variable(tf.zeros([img_dim])),\n",
        "   \"b3\":tf.Variable(tf.zeros([disc_dim])),\n",
        "   \"b4\":tf.Variable(tf.zeros([1]))}"
      ],
      "execution_count": 0,
      "outputs": []
    },
    {
      "metadata": {
        "id": "SLnMCVQdUsH2",
        "colab_type": "code",
        "colab": {
          "autoexec": {
            "startup": false,
            "wait_interval": 0
          }
        }
      },
      "cell_type": "code",
      "source": [
        "### Model Architechture \n",
        "\n",
        "##Generator \n",
        "\n",
        "def gen_fun(x):\n",
        "    h1=tf.matmul(x,W[\"w1\"])\n",
        "    h1=tf.add(h1,b[\"b1\"])\n",
        "    h1=tf.nn.relu(h1)\n",
        "    \n",
        "    h1=tf.matmul(h1,W[\"w2\"])\n",
        "    h1=tf.add(h1,b[\"b2\"])\n",
        "    h1=tf.nn.sigmoid(h1)\n",
        "    \n",
        "    return h1\n",
        "\n",
        "\n",
        "def disc_fun(x):\n",
        "    h2=tf.matmul(x,W[\"w3\"])\n",
        "    h2=tf.add(h2,b[\"b3\"])\n",
        "    h2=tf.nn.relu(h2)\n",
        "    \n",
        "    h2=tf.matmul(h2,W[\"w4\"])\n",
        "    h2=tf.add(h2,b[\"b4\"])\n",
        "    h2=tf.nn.sigmoid(h2)\n",
        "    \n",
        "    return h2\n",
        "\n",
        "\n",
        "\n",
        "    \n"
      ],
      "execution_count": 0,
      "outputs": []
    },
    {
      "metadata": {
        "id": "2NKEM_09UuE_",
        "colab_type": "code",
        "colab": {
          "autoexec": {
            "startup": false,
            "wait_interval": 0
          }
        }
      },
      "cell_type": "code",
      "source": [
        "###Cost function Optimization & Model Evaluation\n",
        "\n",
        "gen_out=gen_fun(gen_inp)\n",
        "\n",
        "disc_real_out=disc_fun(disc_inp)\n",
        "disc_fake_out=disc_fun(gen_out)\n",
        "\n",
        "optim_gen=tf.train.AdamOptimizer(learning_rate=learning_rate)\n",
        "optim_disc=tf.train.AdamOptimizer(learning_rate=learning_rate)\n",
        "cost_gen=-tf.reduce_mean(tf.log(disc_fake_out))\n",
        "cost_disc=-tf.reduce_mean(tf.log(disc_real_out)+tf.log(1.-disc_fake_out))\n",
        "\n",
        "###Generator and Discriminator Variables\n",
        "vars_gen = [W['w1'], W['w2'],b['b1'], b['b2']]\n",
        "vars_disc = [W['w3'],W['w4'],b['b3'], b['b4']]\n",
        "\n",
        "\n",
        "training_gen=optim_gen.minimize(cost_gen,var_list=vars_gen)\n",
        "training_disc=optim_gen.minimize(cost_disc,var_list=vars_disc)\n",
        "\n"
      ],
      "execution_count": 0,
      "outputs": []
    },
    {
      "metadata": {
        "id": "9PY7BZhwUv_P",
        "colab_type": "code",
        "colab": {
          "autoexec": {
            "startup": false,
            "wait_interval": 0
          },
          "base_uri": "https://localhost:8080/",
          "height": 1091
        },
        "outputId": "67c246cc-df4b-469a-8f46-817a6dc8eb14",
        "executionInfo": {
          "status": "ok",
          "timestamp": 1526147963490,
          "user_tz": -330,
          "elapsed": 299704,
          "user": {
            "displayName": "Analytics Data Exploration",
            "photoUrl": "//lh3.googleusercontent.com/-xVjqDbJQmr8/AAAAAAAAAAI/AAAAAAAAAFQ/PU7dBZDglzU/s50-c-k-no/photo.jpg",
            "userId": "115208507553064761315"
          }
        }
      },
      "cell_type": "code",
      "source": [
        "# Initialize the variables (i.e. assign their default value)\n",
        "init = tf.global_variables_initializer()\n",
        "\n",
        "###Staring the Model training Session\n",
        "with tf.Session() as sess:\n",
        "\n",
        "    # Run the initializer\n",
        "    sess.run(init)\n",
        "\n",
        "    for step in range(1, num_steps+1):\n",
        "        batch_x, _ = df.train.next_batch(batch_size)\n",
        "        \n",
        "        # Generate noise to feed to the generator\n",
        "        noise_temp = np.random.uniform(-1., 1., size=[batch_size, noise_dim])\n",
        "        \n",
        "        # Run optimization op (backprop)\n",
        "        feed_dict = {disc_inp: batch_x, gen_inp: noise_temp}\n",
        "        _, _, gl, dl = sess.run([training_gen, training_disc, cost_gen, cost_disc],\n",
        "                            feed_dict=feed_dict)\n",
        "        if step % 2000 == 0 or step == 1:\n",
        "            print('Step %i: Generator Loss: %f, Discriminator Loss: %f' % (step, gl, dl))\n",
        "    print(\"Finished!\")\n",
        "    \n",
        "    \n",
        "    # Testing\n",
        "    # Generating the  images using the generator network\n",
        "    n = 6\n",
        "    canvas = np.empty((28 * n, 28 * n))\n",
        "\n",
        "    for i in range(n):\n",
        "      # Noise input.\n",
        "      z = np.random.uniform(-1., 1., size=[n, noise_dim])\n",
        "      # Generate image from noise.\n",
        "      g = sess.run(gen_out, feed_dict={gen_inp: z})\n",
        "      # Reverse colours for better display\n",
        "      g = -1 * (g - 1)\n",
        "      for j in range(n):\n",
        "        # Draw the generated digits\n",
        "        canvas[i * 28:(i + 1) * 28, j * 28:(j + 1) * 28] = g[j].reshape([28, 28])\n",
        "\n",
        "    plt.figure(figsize=(n, n))\n",
        "    plt.imshow(canvas, origin=\"upper\", cmap=\"gray\")\n",
        "    plt.show()\n",
        "\n",
        "    "
      ],
      "execution_count": 13,
      "outputs": [
        {
          "output_type": "stream",
          "text": [
            "Step 1: Generator Loss: 0.572274, Discriminator Loss: 1.666336\n",
            "Step 2000: Generator Loss: 4.947070, Discriminator Loss: 0.024007\n",
            "Step 4000: Generator Loss: 4.257242, Discriminator Loss: 0.052726\n",
            "Step 6000: Generator Loss: 3.878429, Discriminator Loss: 0.196371\n",
            "Step 8000: Generator Loss: 3.679435, Discriminator Loss: 0.180140\n",
            "Step 10000: Generator Loss: 3.649654, Discriminator Loss: 0.171989\n",
            "Step 12000: Generator Loss: 3.663369, Discriminator Loss: 0.174263\n",
            "Step 14000: Generator Loss: 3.022291, Discriminator Loss: 0.279909\n",
            "Step 16000: Generator Loss: 3.627942, Discriminator Loss: 0.301353\n",
            "Step 18000: Generator Loss: 3.597458, Discriminator Loss: 0.329792\n",
            "Step 20000: Generator Loss: 3.815590, Discriminator Loss: 0.167124\n",
            "Step 22000: Generator Loss: 3.214477, Discriminator Loss: 0.367429\n",
            "Step 24000: Generator Loss: 3.830046, Discriminator Loss: 0.245256\n",
            "Step 26000: Generator Loss: 2.994014, Discriminator Loss: 0.253999\n",
            "Step 28000: Generator Loss: 3.204287, Discriminator Loss: 0.294880\n",
            "Step 30000: Generator Loss: 3.048282, Discriminator Loss: 0.400590\n",
            "Step 32000: Generator Loss: 3.320731, Discriminator Loss: 0.371162\n",
            "Step 34000: Generator Loss: 2.833581, Discriminator Loss: 0.464551\n",
            "Step 36000: Generator Loss: 3.131269, Discriminator Loss: 0.452012\n",
            "Step 38000: Generator Loss: 2.946730, Discriminator Loss: 0.441771\n",
            "Step 40000: Generator Loss: 2.436010, Discriminator Loss: 0.467433\n",
            "Step 42000: Generator Loss: 2.669036, Discriminator Loss: 0.374259\n",
            "Step 44000: Generator Loss: 2.943686, Discriminator Loss: 0.498963\n",
            "Step 46000: Generator Loss: 2.464942, Discriminator Loss: 0.369215\n",
            "Step 48000: Generator Loss: 2.915063, Discriminator Loss: 0.510170\n",
            "Step 50000: Generator Loss: 2.456188, Discriminator Loss: 0.617142\n",
            "Step 52000: Generator Loss: 2.662269, Discriminator Loss: 0.339939\n",
            "Step 54000: Generator Loss: 2.786802, Discriminator Loss: 0.477158\n",
            "Step 56000: Generator Loss: 3.152463, Discriminator Loss: 0.289325\n",
            "Step 58000: Generator Loss: 2.698276, Discriminator Loss: 0.464718\n",
            "Step 60000: Generator Loss: 2.694237, Discriminator Loss: 0.422670\n",
            "Step 62000: Generator Loss: 2.542654, Discriminator Loss: 0.531081\n",
            "Step 64000: Generator Loss: 2.853952, Discriminator Loss: 0.477305\n",
            "Step 66000: Generator Loss: 2.668047, Discriminator Loss: 0.478150\n",
            "Step 68000: Generator Loss: 2.616112, Discriminator Loss: 0.459918\n",
            "Step 70000: Generator Loss: 2.959663, Discriminator Loss: 0.352313\n",
            "Step 72000: Generator Loss: 2.893618, Discriminator Loss: 0.334415\n",
            "Step 74000: Generator Loss: 2.591698, Discriminator Loss: 0.426450\n",
            "Step 76000: Generator Loss: 3.196614, Discriminator Loss: 0.334370\n",
            "Step 78000: Generator Loss: 2.948188, Discriminator Loss: 0.468948\n",
            "Step 80000: Generator Loss: 2.905282, Discriminator Loss: 0.493722\n",
            "Finished!\n"
          ],
          "name": "stdout"
        },
        {
          "output_type": "display_data",
          "data": {
            "image/png": "[encoded data removed]",
            "text/plain": [
              "<matplotlib.figure.Figure at 0x7f3f087feef0>"
            ]
          },
          "metadata": {
            "tags": []
          }
        }
      ]
    },
    {
      "metadata": {
        "id": "tMqx89VuXQEt",
        "colab_type": "code",
        "colab": {
          "autoexec": {
            "startup": false,
            "wait_interval": 0
          }
        }
      },
      "cell_type": "code",
      "source": [
        ""
      ],
      "execution_count": 0,
      "outputs": []
    }
  ]
}